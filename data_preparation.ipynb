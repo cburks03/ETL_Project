{
 "cells": [
  {
   "cell_type": "code",
   "execution_count": 9,
   "metadata": {},
   "outputs": [],
   "source": [
    "import numpy as np \n",
    "import pandas as pd \n",
    "import time\n",
    "import re\n",
    "import nltk \n",
    "import matplotlib.pyplot as plt\n",
    "%matplotlib inline"
   ]
  },
  {
   "cell_type": "code",
   "execution_count": 23,
   "metadata": {},
   "outputs": [
    {
     "data": {
      "text/html": [
       "<div>\n",
       "<style scoped>\n",
       "    .dataframe tbody tr th:only-of-type {\n",
       "        vertical-align: middle;\n",
       "    }\n",
       "\n",
       "    .dataframe tbody tr th {\n",
       "        vertical-align: top;\n",
       "    }\n",
       "\n",
       "    .dataframe thead th {\n",
       "        text-align: right;\n",
       "    }\n",
       "</style>\n",
       "<table border=\"1\" class=\"dataframe\">\n",
       "  <thead>\n",
       "    <tr style=\"text-align: right;\">\n",
       "      <th></th>\n",
       "      <th>asin</th>\n",
       "      <th>brand</th>\n",
       "      <th>title</th>\n",
       "      <th>avgRating</th>\n",
       "      <th>totalReviews</th>\n",
       "      <th>prices</th>\n",
       "      <th>name</th>\n",
       "      <th>rating</th>\n",
       "      <th>date</th>\n",
       "      <th>verified</th>\n",
       "      <th>reviewTitle</th>\n",
       "      <th>body</th>\n",
       "      <th>helpfulVotes</th>\n",
       "    </tr>\n",
       "  </thead>\n",
       "  <tbody>\n",
       "    <tr>\n",
       "      <th>0</th>\n",
       "      <td>B0009N5L7K</td>\n",
       "      <td>Motorola</td>\n",
       "      <td>Motorola I265 phone</td>\n",
       "      <td>2.9</td>\n",
       "      <td>7</td>\n",
       "      <td>$49.95</td>\n",
       "      <td>Marcel Thomas</td>\n",
       "      <td>1</td>\n",
       "      <td>5-Mar-16</td>\n",
       "      <td>True</td>\n",
       "      <td>Stupid phone</td>\n",
       "      <td>DON'T BUY OUT OF SERVICE</td>\n",
       "      <td>NaN</td>\n",
       "    </tr>\n",
       "    <tr>\n",
       "      <th>1</th>\n",
       "      <td>B0009N5L7K</td>\n",
       "      <td>Motorola</td>\n",
       "      <td>Motorola I265 phone</td>\n",
       "      <td>2.9</td>\n",
       "      <td>7</td>\n",
       "      <td>$49.95</td>\n",
       "      <td>Stephen Cahill</td>\n",
       "      <td>1</td>\n",
       "      <td>20-Dec-16</td>\n",
       "      <td>True</td>\n",
       "      <td>Phones locked</td>\n",
       "      <td>1 star because the phones locked so I have to ...</td>\n",
       "      <td>NaN</td>\n",
       "    </tr>\n",
       "    <tr>\n",
       "      <th>2</th>\n",
       "      <td>B000SKTZ0S</td>\n",
       "      <td>Motorola</td>\n",
       "      <td>MOTOROLA C168i AT&amp;T CINGULAR PREPAID GOPHONE C...</td>\n",
       "      <td>2.6</td>\n",
       "      <td>22</td>\n",
       "      <td>NaN</td>\n",
       "      <td>Kei, San Jose, CA</td>\n",
       "      <td>1</td>\n",
       "      <td>13-May-17</td>\n",
       "      <td>True</td>\n",
       "      <td>It seems it doesn't work with the existing AT&amp;...</td>\n",
       "      <td>I purchased this phone for my AT&amp;T phone repla...</td>\n",
       "      <td>NaN</td>\n",
       "    </tr>\n",
       "    <tr>\n",
       "      <th>3</th>\n",
       "      <td>B000SKTZ0S</td>\n",
       "      <td>Motorola</td>\n",
       "      <td>MOTOROLA C168i AT&amp;T CINGULAR PREPAID GOPHONE C...</td>\n",
       "      <td>2.6</td>\n",
       "      <td>22</td>\n",
       "      <td>NaN</td>\n",
       "      <td>MARIO GAUTIER</td>\n",
       "      <td>5</td>\n",
       "      <td>1-May-17</td>\n",
       "      <td>True</td>\n",
       "      <td>Five Stars</td>\n",
       "      <td>SERVED ME WELL AS A BACK UP PHONE.</td>\n",
       "      <td>NaN</td>\n",
       "    </tr>\n",
       "    <tr>\n",
       "      <th>4</th>\n",
       "      <td>B000SKTZ0S</td>\n",
       "      <td>Motorola</td>\n",
       "      <td>MOTOROLA C168i AT&amp;T CINGULAR PREPAID GOPHONE C...</td>\n",
       "      <td>2.6</td>\n",
       "      <td>22</td>\n",
       "      <td>NaN</td>\n",
       "      <td>Kristy</td>\n",
       "      <td>1</td>\n",
       "      <td>13-Mar-19</td>\n",
       "      <td>True</td>\n",
       "      <td>Supply are needed</td>\n",
       "      <td>The phone did not come with a charger and didn...</td>\n",
       "      <td>NaN</td>\n",
       "    </tr>\n",
       "  </tbody>\n",
       "</table>\n",
       "</div>"
      ],
      "text/plain": [
       "         asin     brand                                              title  \\\n",
       "0  B0009N5L7K  Motorola                                Motorola I265 phone   \n",
       "1  B0009N5L7K  Motorola                                Motorola I265 phone   \n",
       "2  B000SKTZ0S  Motorola  MOTOROLA C168i AT&T CINGULAR PREPAID GOPHONE C...   \n",
       "3  B000SKTZ0S  Motorola  MOTOROLA C168i AT&T CINGULAR PREPAID GOPHONE C...   \n",
       "4  B000SKTZ0S  Motorola  MOTOROLA C168i AT&T CINGULAR PREPAID GOPHONE C...   \n",
       "\n",
       "   avgRating  totalReviews  prices               name  rating       date  \\\n",
       "0        2.9             7  $49.95      Marcel Thomas       1   5-Mar-16   \n",
       "1        2.9             7  $49.95     Stephen Cahill       1  20-Dec-16   \n",
       "2        2.6            22     NaN  Kei, San Jose, CA       1  13-May-17   \n",
       "3        2.6            22     NaN      MARIO GAUTIER       5   1-May-17   \n",
       "4        2.6            22     NaN             Kristy       1  13-Mar-19   \n",
       "\n",
       "   verified                                        reviewTitle  \\\n",
       "0      True                                       Stupid phone   \n",
       "1      True                                      Phones locked   \n",
       "2      True  It seems it doesn't work with the existing AT&...   \n",
       "3      True                                         Five Stars   \n",
       "4      True                                  Supply are needed   \n",
       "\n",
       "                                                body  helpfulVotes  \n",
       "0                           DON'T BUY OUT OF SERVICE           NaN  \n",
       "1  1 star because the phones locked so I have to ...           NaN  \n",
       "2  I purchased this phone for my AT&T phone repla...           NaN  \n",
       "3                 SERVED ME WELL AS A BACK UP PHONE.           NaN  \n",
       "4  The phone did not come with a charger and didn...           NaN  "
      ]
     },
     "execution_count": 23,
     "metadata": {},
     "output_type": "execute_result"
    }
   ],
   "source": [
    "#read in reviews csv\n",
    "reviews_csv = \"reviews.csv\"\n",
    "reviews_df = pd.read_csv(reviews_csv)\n",
    "\n",
    "#read in reviews csv\n",
    "items_csv = \"20190928-items.csv\"\n",
    "items_df = pd.read_csv(items_csv)\n",
    "\n",
    "#merged the 2 together on asin w/ left join\n",
    "merged_df = pd.merge(items_df, reviews_df, how = \"right\", on = \"asin\")\n",
    "\n",
    "#dropped unneeded columns\n",
    "data_df = merged_df.drop(columns=[\"reviewUrl\", \"url\", \"image\"], axis = 1)\n",
    "\n",
    "#renamed columns\n",
    "data_df = data_df.rename(columns={\"title_x\":\"title\",\"rating_x\":\"avgRating\",\"rating_y\":\"rating\",\"title_y\":\"reviewTitle\"})\n",
    "\n",
    "#deleted data before 2016-01-01\n",
    "data_df[\"filter\"] = data_df[\"date\"].apply(lambda x: True if time.strptime(x,\"%d-%b-%y\")>=time.strptime(\"2016-01-01\",\"%Y-%m-%d\") else False)\n",
    "post_2016 = data_df[\"filter\"]==True\n",
    "data_post_2016_df = data_df[post_2016]\n",
    "\n",
    "cell_reviews_df = data_post_2016_df.drop(columns=[\"filter\"]).reset_index(drop=True)\n",
    "cell_reviews_df.head()"
   ]
  },
  {
   "cell_type": "code",
   "execution_count": 24,
   "metadata": {},
   "outputs": [],
   "source": [
    "#save table to csv file\n",
    "cell_reviews_df.to_csv(\"cell_reviews.csv\",index=False)"
   ]
  },
  {
   "cell_type": "code",
   "execution_count": 20,
   "metadata": {},
   "outputs": [
    {
     "data": {
      "text/plain": [
       "<matplotlib.axes._subplots.AxesSubplot at 0x1a242ca7f0>"
      ]
     },
     "execution_count": 20,
     "metadata": {},
     "output_type": "execute_result"
    },
    {
     "data": {
      "image/png": "[encoded data removed]",
      "text/plain": [
       "<Figure size 432x288 with 1 Axes>"
      ]
     },
     "metadata": {},
     "output_type": "display_data"
    }
   ],
   "source": [
    "#created pie graph for brand counts to show break down of reviews by percentage\n",
    "cell_reviews_df.brand.value_counts().plot(kind='pie', autopct='%1.0f%%')"
   ]
  },
  {
   "cell_type": "code",
   "execution_count": 21,
   "metadata": {},
   "outputs": [
    {
     "data": {
      "text/html": [
       "<div>\n",
       "<style scoped>\n",
       "    .dataframe tbody tr th:only-of-type {\n",
       "        vertical-align: middle;\n",
       "    }\n",
       "\n",
       "    .dataframe tbody tr th {\n",
       "        vertical-align: top;\n",
       "    }\n",
       "\n",
       "    .dataframe thead th {\n",
       "        text-align: right;\n",
       "    }\n",
       "</style>\n",
       "<table border=\"1\" class=\"dataframe\">\n",
       "  <thead>\n",
       "    <tr style=\"text-align: right;\">\n",
       "      <th></th>\n",
       "      <th>brand</th>\n",
       "      <th>rating</th>\n",
       "    </tr>\n",
       "  </thead>\n",
       "  <tbody>\n",
       "    <tr>\n",
       "      <th>0</th>\n",
       "      <td>ASUS</td>\n",
       "      <td>3.712302</td>\n",
       "    </tr>\n",
       "    <tr>\n",
       "      <th>1</th>\n",
       "      <td>Apple</td>\n",
       "      <td>3.641173</td>\n",
       "    </tr>\n",
       "    <tr>\n",
       "      <th>2</th>\n",
       "      <td>Google</td>\n",
       "      <td>3.636634</td>\n",
       "    </tr>\n",
       "    <tr>\n",
       "      <th>3</th>\n",
       "      <td>HUAWEI</td>\n",
       "      <td>4.316055</td>\n",
       "    </tr>\n",
       "    <tr>\n",
       "      <th>4</th>\n",
       "      <td>Motorola</td>\n",
       "      <td>3.731447</td>\n",
       "    </tr>\n",
       "  </tbody>\n",
       "</table>\n",
       "</div>"
      ],
      "text/plain": [
       "      brand    rating\n",
       "0      ASUS  3.712302\n",
       "1     Apple  3.641173\n",
       "2    Google  3.636634\n",
       "3    HUAWEI  4.316055\n",
       "4  Motorola  3.731447"
      ]
     },
     "execution_count": 21,
     "metadata": {},
     "output_type": "execute_result"
    }
   ],
   "source": [
    "#creating dataframe showing mean reviews by brand\n",
    "cell_ratings_df = cell_reviews_df.groupby([\"brand\"]).mean()[\"rating\"]\n",
    "cell_ratings_df.head().reset_index()"
   ]
  },
  {
   "cell_type": "code",
   "execution_count": 22,
   "metadata": {},
   "outputs": [
    {
     "data": {
      "text/plain": [
       "<matplotlib.axes._subplots.AxesSubplot at 0x1a2b21dc88>"
      ]
     },
     "execution_count": 22,
     "metadata": {},
     "output_type": "execute_result"
    },
    {
     "data": {
      "image/png": "[encoded data removed]",
      "text/plain": [
       "<Figure size 432x288 with 1 Axes>"
      ]
     },
     "metadata": {
      "needs_background": "light"
     },
     "output_type": "display_data"
    }
   ],
   "source": [
    "#created bar graph from cell_ratings_df\n",
    "cell_ratings_df.plot.bar(x='brand', y='rating')"
   ]
  },
  {
   "cell_type": "code",
   "execution_count": null,
   "metadata": {},
   "outputs": [],
   "source": []
  }
 ],
 "metadata": {
  "kernelspec": {
   "display_name": "Python 3",
   "language": "python",
   "name": "python3"
  },
  "language_info": {
   "codemirror_mode": {
    "name": "ipython",
    "version": 3
   },
   "file_extension": ".py",
   "mimetype": "text/x-python",
   "name": "python",
   "nbconvert_exporter": "python",
   "pygments_lexer": "ipython3",
   "version": "3.7.3"
  }
 },
 "nbformat": 4,
 "nbformat_minor": 4
}
